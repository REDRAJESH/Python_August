{
 "cells": [
  {
   "cell_type": "code",
   "execution_count": 9,
   "id": "ee997bc0",
   "metadata": {},
   "outputs": [
    {
     "name": "stdout",
     "output_type": "stream",
     "text": [
      "Enter the R valu3\n",
      "28.26\n"
     ]
    }
   ],
   "source": [
    "#base\n",
    "r=int (input(\"Enter the R valu\"))\n",
    "base=r**2*3.14\n",
    "print (base)   "
   ]
  },
  {
   "cell_type": "code",
   "execution_count": 15,
   "id": "cdba9a95",
   "metadata": {},
   "outputs": [
    {
     "name": "stdout",
     "output_type": "stream",
     "text": [
      "Enter the R valu3\n",
      "Enter the S valu4\n",
      "37.68\n"
     ]
    }
   ],
   "source": [
    "#lateralsurface\n",
    "r=int (input(\"Enter the R valu\"))\n",
    "s=int (input(\"Enter the S valu\"))\n",
    "lateralsurface=r*s*(3.14)\n",
    "print (lateralsurface)   "
   ]
  },
  {
   "cell_type": "code",
   "execution_count": 16,
   "id": "68471639",
   "metadata": {},
   "outputs": [
    {
     "name": "stdout",
     "output_type": "stream",
     "text": [
      "Enter the R valu3\n",
      "Enter the S valu4\n",
      "65.94\n"
     ]
    }
   ],
   "source": [
    "#totel\n",
    "r=int (input(\"Enter the R valu\"))\n",
    "s=int (input(\"Enter the S valu\"))\n",
    "totel=3.14*r**2+3.14*r*s\n",
    "print (totel)   \n"
   ]
  },
  {
   "cell_type": "code",
   "execution_count": 17,
   "id": "fe287360",
   "metadata": {},
   "outputs": [
    {
     "name": "stdout",
     "output_type": "stream",
     "text": [
      "Enter the R valu3\n",
      "9.42\n"
     ]
    }
   ],
   "source": [
    "#volue\n",
    "#lateralsurface\n",
    "r=int (input(\"Enter the R valu\"))\n",
    "V=(r**2*(3.14))/3\n",
    "print (V)   "
   ]
  },
  {
   "cell_type": "code",
   "execution_count": null,
   "id": "9f22c4f0",
   "metadata": {},
   "outputs": [],
   "source": []
  }
 ],
 "metadata": {
  "kernelspec": {
   "display_name": "Python 3 (ipykernel)",
   "language": "python",
   "name": "python3"
  },
  "language_info": {
   "codemirror_mode": {
    "name": "ipython",
    "version": 3
   },
   "file_extension": ".py",
   "mimetype": "text/x-python",
   "name": "python",
   "nbconvert_exporter": "python",
   "pygments_lexer": "ipython3",
   "version": "3.9.12"
  }
 },
 "nbformat": 4,
 "nbformat_minor": 5
}
