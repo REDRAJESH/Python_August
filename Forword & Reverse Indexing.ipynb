{
 "cells": [
  {
   "cell_type": "code",
   "execution_count": 4,
   "id": "d17da35b",
   "metadata": {},
   "outputs": [
    {
     "name": "stdout",
     "output_type": "stream",
     "text": [
      "puter_technol\n"
     ]
    }
   ],
   "source": [
    "a=\"computer_technology\"\n",
    "print (a[3:16])\n"
   ]
  },
  {
   "cell_type": "code",
   "execution_count": 6,
   "id": "28be62ab",
   "metadata": {},
   "outputs": [
    {
     "name": "stdout",
     "output_type": "stream",
     "text": [
      "compu\n"
     ]
    }
   ],
   "source": [
    "a=\"computer_technology\"\n",
    "print (a[:5])"
   ]
  },
  {
   "cell_type": "code",
   "execution_count": 7,
   "id": "17afbe00",
   "metadata": {},
   "outputs": [
    {
     "name": "stdout",
     "output_type": "stream",
     "text": [
      "hnology\n"
     ]
    }
   ],
   "source": [
    "a=\"computer_technology\"\n",
    "print (a[12:19])"
   ]
  },
  {
   "cell_type": "code",
   "execution_count": 9,
   "id": "a8c46e5b",
   "metadata": {},
   "outputs": [
    {
     "name": "stdout",
     "output_type": "stream",
     "text": [
      "uter_tec\n"
     ]
    }
   ],
   "source": [
    "a=\"computer_technology\"\n",
    "print (a[4:12])"
   ]
  },
  {
   "cell_type": "code",
   "execution_count": 10,
   "id": "96b95d3d",
   "metadata": {},
   "outputs": [
    {
     "name": "stdout",
     "output_type": "stream",
     "text": [
      "er_te\n"
     ]
    }
   ],
   "source": [
    "a=\"computer_technology\"\n",
    "print (a[6:11])"
   ]
  },
  {
   "cell_type": "code",
   "execution_count": 11,
   "id": "898040fa",
   "metadata": {},
   "outputs": [
    {
     "name": "stdout",
     "output_type": "stream",
     "text": [
      "_\n"
     ]
    }
   ],
   "source": [
    "a=\"computer_technology\"\n",
    "print (a[8])"
   ]
  },
  {
   "cell_type": "code",
   "execution_count": 13,
   "id": "437d9337",
   "metadata": {},
   "outputs": [
    {
     "name": "stdout",
     "output_type": "stream",
     "text": [
      "computer_techno\n"
     ]
    }
   ],
   "source": [
    "a=\"computer_technology\"\n",
    "print (a[:15])"
   ]
  },
  {
   "cell_type": "code",
   "execution_count": 15,
   "id": "73aebb49",
   "metadata": {},
   "outputs": [
    {
     "name": "stdout",
     "output_type": "stream",
     "text": [
      "ogy\n"
     ]
    }
   ],
   "source": [
    "a=\"computer_technology\"\n",
    "print (a[16:19])"
   ]
  },
  {
   "cell_type": "code",
   "execution_count": 16,
   "id": "711c00d8",
   "metadata": {},
   "outputs": [
    {
     "name": "stdout",
     "output_type": "stream",
     "text": [
      "omputer_te\n"
     ]
    }
   ],
   "source": [
    "a=\"computer_technology\"\n",
    "print (a[1:11])"
   ]
  },
  {
   "cell_type": "code",
   "execution_count": 27,
   "id": "7f1d4611",
   "metadata": {},
   "outputs": [
    {
     "name": "stdout",
     "output_type": "stream",
     "text": [
      "omputer_te\n"
     ]
    }
   ],
   "source": [
    "a=\"computer_technology\"\n",
    "print (a[-18:-8])"
   ]
  },
  {
   "cell_type": "code",
   "execution_count": 31,
   "id": "3a1dc839",
   "metadata": {},
   "outputs": [
    {
     "name": "stdout",
     "output_type": "stream",
     "text": [
      "ogy\n"
     ]
    }
   ],
   "source": [
    "a=\"computer_technology\"\n",
    "print (a[-3:])"
   ]
  },
  {
   "cell_type": "code",
   "execution_count": 32,
   "id": "7a8126fb",
   "metadata": {},
   "outputs": [
    {
     "name": "stdout",
     "output_type": "stream",
     "text": [
      "computer_techno\n"
     ]
    }
   ],
   "source": [
    "a=\"computer_technology\"\n",
    "print (a[:-4])"
   ]
  },
  {
   "cell_type": "code",
   "execution_count": 35,
   "id": "0be4c776",
   "metadata": {},
   "outputs": [
    {
     "name": "stdout",
     "output_type": "stream",
     "text": [
      "_\n"
     ]
    }
   ],
   "source": [
    "a=\"computer_technology\"\n",
    "print (a[-11])"
   ]
  },
  {
   "cell_type": "code",
   "execution_count": 36,
   "id": "8ed2b54a",
   "metadata": {},
   "outputs": [
    {
     "name": "stdout",
     "output_type": "stream",
     "text": [
      "er_te\n"
     ]
    }
   ],
   "source": [
    "a=\"computer_technology\"\n",
    "print (a[-13:-8])"
   ]
  },
  {
   "cell_type": "code",
   "execution_count": 38,
   "id": "e82ba223",
   "metadata": {},
   "outputs": [
    {
     "name": "stdout",
     "output_type": "stream",
     "text": [
      "uter_tec\n"
     ]
    }
   ],
   "source": [
    "a=\"computer_technology\"\n",
    "print (a[-15:-7])"
   ]
  },
  {
   "cell_type": "code",
   "execution_count": 39,
   "id": "5348880b",
   "metadata": {},
   "outputs": [
    {
     "name": "stdout",
     "output_type": "stream",
     "text": [
      "hnology\n"
     ]
    }
   ],
   "source": [
    "a=\"computer_technology\"\n",
    "print (a[-7:])"
   ]
  },
  {
   "cell_type": "code",
   "execution_count": 40,
   "id": "78794f4b",
   "metadata": {},
   "outputs": [
    {
     "name": "stdout",
     "output_type": "stream",
     "text": [
      "compu\n"
     ]
    }
   ],
   "source": [
    "a=\"computer_technology\"\n",
    "print (a[:-14])"
   ]
  },
  {
   "cell_type": "code",
   "execution_count": 42,
   "id": "4e74cf29",
   "metadata": {},
   "outputs": [
    {
     "name": "stdout",
     "output_type": "stream",
     "text": [
      "puter_technol\n"
     ]
    }
   ],
   "source": [
    "a=\"computer_technology\"\n",
    "print (a[-16:-3])"
   ]
  },
  {
   "cell_type": "code",
   "execution_count": null,
   "id": "4f61882c",
   "metadata": {},
   "outputs": [],
   "source": []
  }
 ],
 "metadata": {
  "kernelspec": {
   "display_name": "Python 3 (ipykernel)",
   "language": "python",
   "name": "python3"
  },
  "language_info": {
   "codemirror_mode": {
    "name": "ipython",
    "version": 3
   },
   "file_extension": ".py",
   "mimetype": "text/x-python",
   "name": "python",
   "nbconvert_exporter": "python",
   "pygments_lexer": "ipython3",
   "version": "3.9.12"
  }
 },
 "nbformat": 4,
 "nbformat_minor": 5
}
