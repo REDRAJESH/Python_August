{
 "cells": [
  {
   "cell_type": "code",
   "execution_count": 4,
   "id": "f403d7cd",
   "metadata": {},
   "outputs": [],
   "source": [
    "#input String one value number is only user\n",
    "#anothe string input for user\n",
    "#1st value convert int and incluode to list\n",
    "#over list element in lenth\n",
    "#len letter was print in output for 2nd values\n"
   ]
  },
  {
   "cell_type": "code",
   "execution_count": 63,
   "id": "2676258d",
   "metadata": {},
   "outputs": [
    {
     "name": "stdout",
     "output_type": "stream",
     "text": [
      "Enter the A value: 1235468\n",
      "Enter the AA Value: Rajeshkasnnan\n",
      "<class 'str'>\n",
      "<class 'int'>\n",
      "[1, 2, 3, 5, 4, 6, 8]\n",
      "<class 'list'>\n",
      "7\n",
      "<class 'int'>\n",
      "Rajeshk\n",
      "<class 'str'>\n"
     ]
    }
   ],
   "source": [
    "a=input(\"Enter the A value: \")\n",
    "aa=input(\"Enter the AA Value: \")\n",
    "print(type(a))\n",
    "bb=(int(a))\n",
    "print(type(bb))\n",
    "\n",
    "# using list comprehension\n",
    "# to convert number to list of integers\n",
    "\n",
    "x=[int(x) for x in str(bb)]\n",
    "print(x)\n",
    "print(type(x))\n",
    "c=len(x)\n",
    "print(c)\n",
    "print(type(c))\n",
    "cc=aa[:c]\n",
    "print(cc)\n",
    "print(type(cc))\n",
    "\n"
   ]
  },
  {
   "cell_type": "code",
   "execution_count": null,
   "id": "000eb888",
   "metadata": {},
   "outputs": [],
   "source": [
    "\n"
   ]
  },
  {
   "cell_type": "code",
   "execution_count": null,
   "id": "8803f252",
   "metadata": {},
   "outputs": [],
   "source": [
    "\n"
   ]
  },
  {
   "cell_type": "code",
   "execution_count": null,
   "id": "98a4714b",
   "metadata": {},
   "outputs": [],
   "source": []
  }
 ],
 "metadata": {
  "kernelspec": {
   "display_name": "Python 3 (ipykernel)",
   "language": "python",
   "name": "python3"
  },
  "language_info": {
   "codemirror_mode": {
    "name": "ipython",
    "version": 3
   },
   "file_extension": ".py",
   "mimetype": "text/x-python",
   "name": "python",
   "nbconvert_exporter": "python",
   "pygments_lexer": "ipython3",
   "version": "3.9.12"
  }
 },
 "nbformat": 4,
 "nbformat_minor": 5
}
