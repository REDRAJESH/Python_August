{
 "cells": [
  {
   "cell_type": "code",
   "execution_count": 14,
   "id": "945ad75f",
   "metadata": {},
   "outputs": [
    {
     "name": "stdout",
     "output_type": "stream",
     "text": [
      "15\n",
      "-5\n",
      "0.5\n",
      "5\n",
      "50\n",
      "0\n",
      "9765625\n"
     ]
    }
   ],
   "source": [
    "#1.Arithmetic Operators\n",
    "x=5\n",
    "y=10\n",
    "#addtion\n",
    "print (x+y)\n",
    "#SUB\n",
    "print(x-y)\n",
    "#divsion\n",
    "print (x/y)\n",
    "#module\n",
    "print(x%y)\n",
    "#MUL\n",
    "print (x*y)\n",
    "#floor division\n",
    "print(x//y)\n",
    "#Exponentiation\n",
    "print(x**y)"
   ]
  },
  {
   "cell_type": "code",
   "execution_count": null,
   "id": "87d91e25",
   "metadata": {},
   "outputs": [],
   "source": [
    "Data type\n",
    "#1.string\n",
    "#2.int\n",
    "#3.float\n",
    "#4.complex\n",
    "#5.boolean"
   ]
  },
  {
   "cell_type": "code",
   "execution_count": 41,
   "id": "63ddb548",
   "metadata": {},
   "outputs": [
    {
     "name": "stdout",
     "output_type": "stream",
     "text": [
      "Enter the radius8\n",
      "Diameter16\n",
      "<class 'int'>\n"
     ]
    }
   ],
   "source": [
    "#2.Int\n",
    "#Diameter\n",
    "r=int (input(\"Enter the radius\"))\n",
    "D=2*r\n",
    "print (\"Diameter\"+(str(D)))\n",
    "print (type(D))"
   ]
  },
  {
   "cell_type": "code",
   "execution_count": 51,
   "id": "999b8ca9",
   "metadata": {},
   "outputs": [
    {
     "name": "stdout",
     "output_type": "stream",
     "text": [
      "Area value200.96\n",
      "<class 'float'>\n"
     ]
    }
   ],
   "source": [
    "#Area\n",
    "A=3.14*r**2\n",
    "print (\"Area value\"+(str(A)))\n",
    "print(type(A))"
   ]
  },
  {
   "cell_type": "code",
   "execution_count": 45,
   "id": "01256619",
   "metadata": {},
   "outputs": [
    {
     "name": "stdout",
     "output_type": "stream",
     "text": [
      "Circumference50.24\n",
      "<class 'float'>\n"
     ]
    }
   ],
   "source": [
    "\n",
    "#Circumference\n",
    "C=2*3.14*r\n",
    "print (\"Circumference\"+(str(C)))\n",
    "print (type(C))"
   ]
  },
  {
   "cell_type": "code",
   "execution_count": 60,
   "id": "d440e75d",
   "metadata": {},
   "outputs": [
    {
     "name": "stdout",
     "output_type": "stream",
     "text": [
      "Enter the valu5\n",
      "Area Value25\n"
     ]
    }
   ],
   "source": [
    "#square Aear int\n",
    "a=int (input (\"Enter the valu\"))\n",
    "Area=a**2\n",
    "print (\"Area Value\"+(str(Area)))"
   ]
  },
  {
   "cell_type": "code",
   "execution_count": 62,
   "id": "9e545a87",
   "metadata": {},
   "outputs": [
    {
     "name": "stdout",
     "output_type": "stream",
     "text": [
      "Perimmeter Value20\n"
     ]
    }
   ],
   "source": [
    "#square Perimeter\n",
    "Peri=4*a\n",
    "print (\"Perimmeter Value\"+(str(Peri)))"
   ]
  },
  {
   "cell_type": "code",
   "execution_count": 74,
   "id": "892c6842",
   "metadata": {},
   "outputs": [
    {
     "name": "stdout",
     "output_type": "stream",
     "text": [
      "Digonal0.5\n"
     ]
    }
   ],
   "source": [
    "#square Diagonal\n",
    "Diag=0.1*a\n",
    "print (\"Digonal\"+(str(Diag)))"
   ]
  },
  {
   "cell_type": "code",
   "execution_count": null,
   "id": "dc7466f0",
   "metadata": {},
   "outputs": [],
   "source": []
  },
  {
   "cell_type": "code",
   "execution_count": null,
   "id": "517ab67c",
   "metadata": {},
   "outputs": [],
   "source": []
  },
  {
   "cell_type": "code",
   "execution_count": null,
   "id": "4c5f8f70",
   "metadata": {},
   "outputs": [],
   "source": []
  }
 ],
 "metadata": {
  "kernelspec": {
   "display_name": "Python 3 (ipykernel)",
   "language": "python",
   "name": "python3"
  },
  "language_info": {
   "codemirror_mode": {
    "name": "ipython",
    "version": 3
   },
   "file_extension": ".py",
   "mimetype": "text/x-python",
   "name": "python",
   "nbconvert_exporter": "python",
   "pygments_lexer": "ipython3",
   "version": "3.9.12"
  }
 },
 "nbformat": 4,
 "nbformat_minor": 5
}
