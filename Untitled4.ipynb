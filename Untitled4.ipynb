{
 "cells": [
  {
   "cell_type": "code",
   "execution_count": 4,
   "id": "f49e24ff",
   "metadata": {},
   "outputs": [
    {
     "name": "stdout",
     "output_type": "stream",
     "text": [
      "puter_technol\n"
     ]
    }
   ],
   "source": [
    "a=\"computer_technology\"\n",
    "print (a[3:16])\n"
   ]
  },
  {
   "cell_type": "code",
   "execution_count": 6,
   "id": "27a2453e",
   "metadata": {},
   "outputs": [
    {
     "name": "stdout",
     "output_type": "stream",
     "text": [
      "compu\n"
     ]
    }
   ],
   "source": [
    "a=\"computer_technology\"\n",
    "print (a[:5])"
   ]
  },
  {
   "cell_type": "code",
   "execution_count": 7,
   "id": "afac3588",
   "metadata": {},
   "outputs": [
    {
     "name": "stdout",
     "output_type": "stream",
     "text": [
      "hnology\n"
     ]
    }
   ],
   "source": [
    "a=\"computer_technology\"\n",
    "print (a[12:19])"
   ]
  },
  {
   "cell_type": "code",
   "execution_count": 9,
   "id": "53033150",
   "metadata": {},
   "outputs": [
    {
     "name": "stdout",
     "output_type": "stream",
     "text": [
      "uter_tec\n"
     ]
    }
   ],
   "source": [
    "a=\"computer_technology\"\n",
    "print (a[4:12])"
   ]
  },
  {
   "cell_type": "code",
   "execution_count": 10,
   "id": "f2fa26bc",
   "metadata": {},
   "outputs": [
    {
     "name": "stdout",
     "output_type": "stream",
     "text": [
      "er_te\n"
     ]
    }
   ],
   "source": [
    "a=\"computer_technology\"\n",
    "print (a[6:11])"
   ]
  },
  {
   "cell_type": "code",
   "execution_count": 11,
   "id": "67e367ff",
   "metadata": {},
   "outputs": [
    {
     "name": "stdout",
     "output_type": "stream",
     "text": [
      "_\n"
     ]
    }
   ],
   "source": [
    "a=\"computer_technology\"\n",
    "print (a[8])"
   ]
  },
  {
   "cell_type": "code",
   "execution_count": 13,
   "id": "c40c4d6f",
   "metadata": {},
   "outputs": [
    {
     "name": "stdout",
     "output_type": "stream",
     "text": [
      "computer_techno\n"
     ]
    }
   ],
   "source": [
    "a=\"computer_technology\"\n",
    "print (a[:15])"
   ]
  },
  {
   "cell_type": "code",
   "execution_count": 15,
   "id": "8b6ed0e4",
   "metadata": {},
   "outputs": [
    {
     "name": "stdout",
     "output_type": "stream",
     "text": [
      "ogy\n"
     ]
    }
   ],
   "source": [
    "a=\"computer_technology\"\n",
    "print (a[16:19])"
   ]
  },
  {
   "cell_type": "code",
   "execution_count": 16,
   "id": "77bef674",
   "metadata": {},
   "outputs": [
    {
     "name": "stdout",
     "output_type": "stream",
     "text": [
      "omputer_te\n"
     ]
    }
   ],
   "source": [
    "a=\"computer_technology\"\n",
    "print (a[1:11])"
   ]
  },
  {
   "cell_type": "code",
   "execution_count": null,
   "id": "8ab41061",
   "metadata": {},
   "outputs": [],
   "source": []
  }
 ],
 "metadata": {
  "kernelspec": {
   "display_name": "Python 3 (ipykernel)",
   "language": "python",
   "name": "python3"
  },
  "language_info": {
   "codemirror_mode": {
    "name": "ipython",
    "version": 3
   },
   "file_extension": ".py",
   "mimetype": "text/x-python",
   "name": "python",
   "nbconvert_exporter": "python",
   "pygments_lexer": "ipython3",
   "version": "3.9.12"
  }
 },
 "nbformat": 4,
 "nbformat_minor": 5
}
