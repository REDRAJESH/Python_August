{
 "cells": [
  {
   "cell_type": "code",
   "execution_count": 17,
   "id": "716f4398",
   "metadata": {},
   "outputs": [
    {
     "name": "stdout",
     "output_type": "stream",
     "text": [
      "Rajesh-Kannan-T\n"
     ]
    }
   ],
   "source": [
    "#separator parameter\n",
    "a='Rajesh','Kannan','T'\n",
    "print(*a,sep='-')"
   ]
  },
  {
   "cell_type": "code",
   "execution_count": 18,
   "id": "c05eab79",
   "metadata": {},
   "outputs": [
    {
     "name": "stdout",
     "output_type": "stream",
     "text": [
      "RajeshKannanT\n"
     ]
    }
   ],
   "source": [
    "a='Rajesh','Kannan','T'\n",
    "print(*a,sep='')"
   ]
  },
  {
   "cell_type": "code",
   "execution_count": 20,
   "id": "efba3628",
   "metadata": {},
   "outputs": [
    {
     "name": "stdout",
     "output_type": "stream",
     "text": [
      "Rajesh $ Kannan $ T\n"
     ]
    }
   ],
   "source": [
    "a='Rajesh','Kannan','T'\n",
    "print(*a,sep=' $ ')"
   ]
  },
  {
   "cell_type": "code",
   "execution_count": 21,
   "id": "df4230f1",
   "metadata": {},
   "outputs": [
    {
     "name": "stdout",
     "output_type": "stream",
     "text": [
      "Rajesh Kannan T\n"
     ]
    }
   ],
   "source": [
    "a='Rajesh','Kannan','T'\n",
    "print(*a,sep=' ')"
   ]
  },
  {
   "cell_type": "code",
   "execution_count": null,
   "id": "ade24966",
   "metadata": {},
   "outputs": [],
   "source": []
  }
 ],
 "metadata": {
  "kernelspec": {
   "display_name": "Python 3 (ipykernel)",
   "language": "python",
   "name": "python3"
  },
  "language_info": {
   "codemirror_mode": {
    "name": "ipython",
    "version": 3
   },
   "file_extension": ".py",
   "mimetype": "text/x-python",
   "name": "python",
   "nbconvert_exporter": "python",
   "pygments_lexer": "ipython3",
   "version": "3.9.12"
  }
 },
 "nbformat": 4,
 "nbformat_minor": 5
}
