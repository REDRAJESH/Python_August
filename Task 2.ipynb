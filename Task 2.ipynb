{
 "cells": [
  {
   "cell_type": "code",
   "execution_count": 17,
   "id": "1ca7c226",
   "metadata": {},
   "outputs": [
    {
     "name": "stdout",
     "output_type": "stream",
     "text": [
      "j2ar2i\n"
     ]
    }
   ],
   "source": [
    "a=\"ravijnjxncjcjenkjivfdji\"\n",
    "b=\"javacnjdcnekmaghuykdfej\"\n",
    "c=a[:4]\n",
    "d=b[:4]\n",
    "x=c.replace(\"av\", \"2\")\n",
    "y=d.replace(\"av\", \"2\")\n",
    "z=y+x\n",
    "print(z)"
   ]
  },
  {
   "cell_type": "code",
   "execution_count": 42,
   "id": "1a9cfe25",
   "metadata": {},
   "outputs": [
    {
     "name": "stdout",
     "output_type": "stream",
     "text": [
      "s5e\n",
      "s4l\n"
     ]
    }
   ],
   "source": [
    "a=\"science\"\n",
    "b=\"social\"\n",
    "m=(a[1:-1])\n",
    "y=len(m)\n",
    "z=(a[0]+str(y)+a[-1])\n",
    "print(z)\n",
    "\n",
    "n=(b[1:-1])\n",
    "y=len(n)\n",
    "x=(b[0]+str(y)+b[-1])\n",
    "print(x)"
   ]
  },
  {
   "cell_type": "code",
   "execution_count": null,
   "id": "b6dfeca9",
   "metadata": {},
   "outputs": [],
   "source": []
  },
  {
   "cell_type": "code",
   "execution_count": null,
   "id": "8ece2784",
   "metadata": {},
   "outputs": [],
   "source": []
  }
 ],
 "metadata": {
  "kernelspec": {
   "display_name": "Python 3 (ipykernel)",
   "language": "python",
   "name": "python3"
  },
  "language_info": {
   "codemirror_mode": {
    "name": "ipython",
    "version": 3
   },
   "file_extension": ".py",
   "mimetype": "text/x-python",
   "name": "python",
   "nbconvert_exporter": "python",
   "pygments_lexer": "ipython3",
   "version": "3.9.12"
  }
 },
 "nbformat": 4,
 "nbformat_minor": 5
}
