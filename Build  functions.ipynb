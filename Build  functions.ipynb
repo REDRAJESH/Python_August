{
 "cells": [
  {
   "cell_type": "code",
   "execution_count": 29,
   "id": "5e4549d6",
   "metadata": {},
   "outputs": [
    {
     "name": "stdout",
     "output_type": "stream",
     "text": [
      "-15\n",
      "15\n",
      "(10+5j)\n",
      "11.180339887498949\n"
     ]
    }
   ],
   "source": [
    "#1.Python abs() Function\n",
    "#Return the absolute value of a number\n",
    "#The abs() function returns the absolute value of the specified number.\n",
    "a=10\n",
    "b=25\n",
    "c=a-b\n",
    "print(c)\n",
    "print(abs(c))\n",
    "\n",
    "#Return the absolute value of a complex number\n",
    "x=10\n",
    "y=5j\n",
    "z=x+y\n",
    "print(z)\n",
    "print(abs(z))"
   ]
  },
  {
   "cell_type": "code",
   "execution_count": 50,
   "id": "f47af970",
   "metadata": {},
   "outputs": [
    {
     "name": "stdout",
     "output_type": "stream",
     "text": [
      "True\n",
      "False\n",
      "False\n",
      "True\n",
      "False\n",
      "True\n"
     ]
    }
   ],
   "source": [
    "#2.all() Function\n",
    "#The all() function returns True if all items in an iterable are true, otherwise it returns False.\n",
    "#If the iterable object is empty, the all() function also returns True.\n",
    "#Check if all items in a list are True:\n",
    "a=[1,1,1,1]\n",
    "b=all(a)\n",
    "print(b)\n",
    "\n",
    "#Check if all items in a tuple are True:\n",
    "x=(2,2,2,2,0)\n",
    "y=all(x)\n",
    "print(y)\n",
    "\n",
    "#Check if all items in a set are True:\n",
    "m={1,1,1,0}\n",
    "n=all(m)\n",
    "print(n)\n",
    "\n",
    "#Check if all items in a dictionary are True:\n",
    "c={\"rajeh\":10,\"kannan\":15}\n",
    "d=all(c)\n",
    "print(d)\n",
    "\n",
    "p={0:\"kannan\",1:\"Rajesh\"}\n",
    "q=all(p)\n",
    "print(q)\n",
    "\n",
    "s=()\n",
    "t=all(s)\n",
    "print(t)\n"
   ]
  },
  {
   "cell_type": "code",
   "execution_count": 49,
   "id": "f2325765",
   "metadata": {},
   "outputs": [
    {
     "name": "stdout",
     "output_type": "stream",
     "text": [
      "True\n",
      "False\n"
     ]
    }
   ],
   "source": [
    "#3.any() Function\n",
    "#Returns True if any item in an iterable object is true\n",
    "#The any() function returns True if any item in an iterable are true, otherwise it returns False.\n",
    "#If the iterable object is empty, the any() function will return False.\n",
    "a=(10,11,21)\n",
    "b=any(a)\n",
    "print(b)\n",
    "\n",
    "#Returns False if any item in an not iterable object is false\n",
    "c=()\n",
    "d=any(c)\n",
    "print(d)"
   ]
  },
  {
   "cell_type": "code",
   "execution_count": 54,
   "id": "804d33e6",
   "metadata": {},
   "outputs": [
    {
     "name": "stdout",
     "output_type": "stream",
     "text": [
      "'Raj\\u091c\\u0947sh'\n"
     ]
    }
   ],
   "source": [
    "#4.ascii() Function\n",
    "#Returns a readable version of an object. Replaces none-ascii characters with escape character\n",
    "#The ascii() function returns a readable version of any object (Strings, Tuples, Lists, etc).\n",
    "\n",
    "#The ascii() function will replace any non-ascii characters with escape characters:\n",
    "\n",
    "#å will be replaced with \\xe5.\n",
    "\n",
    "a=(\"Rajजेsh\")\n",
    "b=ascii(a)\n",
    "print(b)\n"
   ]
  },
  {
   "cell_type": "code",
   "execution_count": 60,
   "id": "ea99f83a",
   "metadata": {},
   "outputs": [
    {
     "name": "stdout",
     "output_type": "stream",
     "text": [
      "0b1000\n",
      "0b110110\n"
     ]
    }
   ],
   "source": [
    "#5.bin() Function\n",
    "#The bin() function returns the binary version of a specified integer.\n",
    "\n",
    "#The result will always start with the prefix 0b.\n",
    "a=8\n",
    "b=bin(a)\n",
    "print(b)\n",
    "\n",
    "c=54\n",
    "d=bin(c)\n",
    "print(d)"
   ]
  },
  {
   "cell_type": "code",
   "execution_count": 63,
   "id": "ccd6c33a",
   "metadata": {},
   "outputs": [
    {
     "name": "stdout",
     "output_type": "stream",
     "text": [
      "False\n",
      "True\n",
      "True\n"
     ]
    }
   ],
   "source": [
    "#6.bool() Function\n",
    "#The bool() function returns the boolean value of a specified object.\n",
    "\n",
    "#The object will always return True, unless:\n",
    "\n",
    "#The object is empty, like [], (), {}\n",
    "#The object is False\n",
    "#The object is 0\n",
    "#The object is None\n",
    "\n",
    "a=()\n",
    "b=bool(a)\n",
    "print(b)\n",
    "\n",
    "c=(10)\n",
    "d=bool(c)\n",
    "print(d)\n",
    "\n",
    "e=(\"Rajesh\",\"kannan\")\n",
    "f=bool(e)\n",
    "print(f)"
   ]
  },
  {
   "cell_type": "code",
   "execution_count": 71,
   "id": "aabb394e",
   "metadata": {},
   "outputs": [
    {
     "name": "stdout",
     "output_type": "stream",
     "text": [
      "bytearray(b'\\x00\\x00\\x00')\n",
      "bytearray(b'\\x00\\x00\\x00\\x00\\x00\\x00\\x00\\x00')\n",
      "bytearray(b'\\x01\\x03\\x05\\x07\\t')\n"
     ]
    },
    {
     "data": {
      "text/plain": [
       "'\"Parameter Values\\nParameter\\t        Description\\nx\\t                A source to use when creating the bytearray object.\\n\\n                    If it is an integer, an empty bytearray object of the specified size will be created.\\n\\n                    If it is a String, make sure you specify the encoding of the source.\\nencoding\\t        The encoding of the string\\nerror\\t            Specifies what to do if the encoding fails.'"
      ]
     },
     "execution_count": 71,
     "metadata": {},
     "output_type": "execute_result"
    }
   ],
   "source": [
    "#7.bytearray() Function\n",
    "#The bytearray() function returns a bytearray object.\n",
    "\n",
    "#It can convert objects into bytearray objects, or create empty bytearray object of the specified size.\n",
    "a=(3)\n",
    "b=bytearray(a)\n",
    "print(b)\n",
    "\n",
    "c=(8)\n",
    "d=bytearray(c)\n",
    "print(d)\n",
    "\n",
    "e=[1,3,5,7,9]\n",
    "f=bytearray(e)\n",
    "print(f)\n",
    "\n",
    "\"\"\"\"Parameter Values\n",
    "Parameter\t        Description\n",
    "x\t                A source to use when creating the bytearray object.\n",
    "\n",
    "                    If it is an integer, an empty bytearray object of the specified size will be created.\n",
    "\n",
    "                    If it is a String, make sure you specify the encoding of the source.\n",
    "encoding\t        The encoding of the string\n",
    "error\t            Specifies what to do if the encoding fails.\"\"\""
   ]
  },
  {
   "cell_type": "code",
   "execution_count": 75,
   "id": "22664ccf",
   "metadata": {},
   "outputs": [
    {
     "name": "stdout",
     "output_type": "stream",
     "text": [
      "b'\\x00\\x00\\x00'\n",
      "b'\\x01\\x02\\x03\\x04'\n"
     ]
    }
   ],
   "source": [
    "#8.bytes() function\n",
    "#The bytes() function returns a bytes object.\n",
    "\n",
    "#It can convert objects into bytes objects, or create empty bytes object of the specified size.\n",
    "\n",
    "#The difference between bytes() and bytearray() is that bytes() returns an object that cannot be modified, and bytearray() returns an object that can be modified.\n",
    "\n",
    "a=3\n",
    "b=bytes(a)\n",
    "print(b)\n",
    "\n",
    "c=[1,2,3,4]\n",
    "d=bytes(c)\n",
    "print(d)\n",
    "\n"
   ]
  },
  {
   "cell_type": "code",
   "execution_count": 95,
   "id": "8b32510f",
   "metadata": {},
   "outputs": [
    {
     "name": "stdout",
     "output_type": "stream",
     "text": [
      "False\n",
      "True\n"
     ]
    }
   ],
   "source": [
    "#9.the callable() function \n",
    "#The callable() function returns True if the specified object is callable, otherwise it returns False.\n",
    "a=10\n",
    "b=callable(a)\n",
    "print(b)\n",
    "\n",
    "def x():\n",
    "  a = 10\n",
    "print(callable(x))\n"
   ]
  },
  {
   "cell_type": "code",
   "execution_count": 102,
   "id": "3f6b4195",
   "metadata": {},
   "outputs": [
    {
     "name": "stdout",
     "output_type": "stream",
     "text": [
      "e\n"
     ]
    }
   ],
   "source": [
    "#10.chr() Function\n",
    "#The chr() function returns the character that represents the specified unicode.\n",
    "\n",
    "a=101\n",
    "b=chr(a)\n",
    "print(b)"
   ]
  },
  {
   "cell_type": "code",
   "execution_count": 116,
   "id": "e1f61e7f",
   "metadata": {},
   "outputs": [
    {
     "name": "stdout",
     "output_type": "stream",
     "text": [
      "555\n",
      "50\n",
      "90\n"
     ]
    }
   ],
   "source": [
    "#11.compile() Function\n",
    "#The compile() function returns the specified source as a code object, ready to be executed.\n",
    "\n",
    "a=555\n",
    "x = compile('print(a)', '(test)', 'eval')\n",
    "exec(x)\n",
    "\n",
    "b=50\n",
    "c=90\n",
    "x = compile('print(b)\\nprint(c)', 'test', 'exec')\n",
    "exec(x)\n"
   ]
  },
  {
   "cell_type": "code",
   "execution_count": 113,
   "id": "f634a9b8",
   "metadata": {},
   "outputs": [
    {
     "name": "stdout",
     "output_type": "stream",
     "text": [
      "(10+15j)\n"
     ]
    }
   ],
   "source": [
    "#12.The complex() function returns a complex number by specifying a real number and an imaginary number.\n",
    "#real   Required. A number representing the real part of the complex number. Default 0. The real number can also be a String, like this '3+5j', when this is the case, the second parameter should be omitted.\n",
    "#imaginary   Optional. A number representing the imaginary part of the complex number. Default 0.\n",
    "\n",
    "a=10\n",
    "b=15\n",
    "c=complex(a,b)\n",
    "print(c)\n"
   ]
  },
  {
   "cell_type": "code",
   "execution_count": 122,
   "id": "3ea9fc7b",
   "metadata": {},
   "outputs": [
    {
     "name": "stdout",
     "output_type": "stream",
     "text": [
      "21.0\n",
      "<class 'float'>\n"
     ]
    }
   ],
   "source": [
    "#13.float() Function\n",
    "#The float() function converts the specified value into a floating point number.\n",
    "a=10\n",
    "b=11\n",
    "c=float(a+b)\n",
    "print(c)\n",
    "print(type(c))"
   ]
  },
  {
   "cell_type": "code",
   "execution_count": 130,
   "id": "1aaa1940",
   "metadata": {},
   "outputs": [
    {
     "name": "stdout",
     "output_type": "stream",
     "text": [
      "Enter the A valueRajesh\n",
      "Rajesh\n"
     ]
    }
   ],
   "source": [
    "#14.input() Function\n",
    "#The input() function allows user input\n",
    "a=input(\"Enter the A value\")\n",
    "print(a)"
   ]
  },
  {
   "cell_type": "code",
   "execution_count": 132,
   "id": "2888d036",
   "metadata": {},
   "outputs": [
    {
     "name": "stdout",
     "output_type": "stream",
     "text": [
      "10\n",
      "<class 'int'>\n",
      "<class 'str'>\n",
      "10\n",
      "<class 'int'>\n"
     ]
    }
   ],
   "source": [
    "#15.int() Function\n",
    "#The int() function converts the specified value into an integer number.\n",
    "a=10\n",
    "print(a)\n",
    "print(type(a))\n",
    "\n",
    "b=\"10\"\n",
    "print(type(b))\n",
    "c=int(b)\n",
    "print(c)\n",
    "print(type(c))"
   ]
  },
  {
   "cell_type": "code",
   "execution_count": 134,
   "id": "cde8e83f",
   "metadata": {},
   "outputs": [
    {
     "name": "stdout",
     "output_type": "stream",
     "text": [
      "12\n"
     ]
    }
   ],
   "source": [
    "#16.len() Function\n",
    "#\n",
    "#The len() function returns the number of items in an object.\n",
    "\n",
    "#When the object is a string, the len() function returns the number of characters in the string.\n",
    "a=\"rajeshkannan\"\n",
    "b=len(a)\n",
    "print(b)\n",
    "\n"
   ]
  },
  {
   "cell_type": "code",
   "execution_count": 135,
   "id": "3c311151",
   "metadata": {},
   "outputs": [
    {
     "name": "stdout",
     "output_type": "stream",
     "text": [
      "['Rajesh', 'Kannan', 'Ravi']\n"
     ]
    }
   ],
   "source": [
    "#17.list() Function\n",
    "#The list() function creates a list object.\n",
    "\n",
    "#A list object is a collection which is ordered and changeable.\n",
    "\n",
    "#Read more about list  in the chapter: Python Lists.\n",
    "a=(\"Rajesh\",\"Kannan\",\"Ravi\")\n",
    "b=list(a)\n",
    "print(b)"
   ]
  },
  {
   "cell_type": "code",
   "execution_count": 152,
   "id": "ed7ca106",
   "metadata": {},
   "outputs": [
    {
     "name": "stdout",
     "output_type": "stream",
     "text": [
      "88\n",
      "Ravikrishna\n"
     ]
    }
   ],
   "source": [
    "#18.max() Function\n",
    "#The max() function returns the item with the highest value, or the item with the highest value in an iterable.\n",
    "\n",
    "#If the values are strings, an alphabetically comparison is done\n",
    "a=(1,4,7,55,77,88)\n",
    "b=max(a)\n",
    "print(b)\n",
    "\n",
    "c = (\"Ravikrishna\", \"Kannan\", \"Ravi\",\"Kumar\")\n",
    "d=max(c)\n",
    "print(d)"
   ]
  },
  {
   "cell_type": "code",
   "execution_count": 153,
   "id": "f9cff8e8",
   "metadata": {},
   "outputs": [
    {
     "name": "stdout",
     "output_type": "stream",
     "text": [
      "1\n",
      "Kannan\n"
     ]
    }
   ],
   "source": [
    "#19.min() Function\n",
    "#The min() function returns the item with the lowest value, or the item with the lowest value in an iterable.\n",
    "\n",
    "#If the values are strings, an alphabetically comparison is done.\n",
    "a=(1,24,56,78,11,)\n",
    "b=min(a)\n",
    "print(b)\n",
    "\n",
    "c = (\"Ravikrishna\", \"Kannan\", \"Ravi\",\"Kumar\")\n",
    "d=min(c)\n",
    "print(d)"
   ]
  },
  {
   "cell_type": "code",
   "execution_count": 155,
   "id": "a72068c0",
   "metadata": {},
   "outputs": [
    {
     "name": "stdout",
     "output_type": "stream",
     "text": [
      "0xea\n",
      "0xff\n"
     ]
    }
   ],
   "source": [
    "#20.hex() Function\n",
    "#The hex() function converts the specified number into a hexadecimal value.\n",
    "\n",
    "#The returned string always starts with the prefix 0x.\n",
    "\n",
    "a=234\n",
    "b=hex(a)\n",
    "print(b)\n",
    "\n",
    "c=255\n",
    "d=hex(c)\n",
    "print(d)"
   ]
  },
  {
   "cell_type": "code",
   "execution_count": 158,
   "id": "27c801ba",
   "metadata": {},
   "outputs": [
    {
     "name": "stdout",
     "output_type": "stream",
     "text": [
      "0o30\n"
     ]
    }
   ],
   "source": [
    "#21.oct() Function\n",
    "#The oct() function converts an integer into an octal string.\n",
    "\n",
    "#Octal strings in Python are prefixed with 0o.\n",
    "\n",
    "a=24\n",
    "b=oct(a)\n",
    "print(b)"
   ]
  },
  {
   "cell_type": "code",
   "execution_count": 164,
   "id": "c893dc1d",
   "metadata": {},
   "outputs": [
    {
     "name": "stdout",
     "output_type": "stream",
     "text": [
      "104\n"
     ]
    }
   ],
   "source": [
    "#22.ord() Function\n",
    "#The ord() function returns the number representing the unicode code of a specified character\n",
    "\n",
    "a=\"h\"\n",
    "b=ord(a)\n",
    "print(b)\n"
   ]
  },
  {
   "cell_type": "code",
   "execution_count": 165,
   "id": "5873bc6a",
   "metadata": {},
   "outputs": [
    {
     "name": "stdout",
     "output_type": "stream",
     "text": [
      "Rajeshkann\n"
     ]
    }
   ],
   "source": [
    "#23.print() Function\n",
    "#The print() function prints the specified message to the screen, or other standard output device.\n",
    "\n",
    "#The message can be a string, or any other object, the object will be converted into a string before written to the screen.\n",
    "\n",
    "a=\"Rajeshkann\"\n",
    "print(a)"
   ]
  },
  {
   "cell_type": "code",
   "execution_count": 168,
   "id": "b9fb7f88",
   "metadata": {},
   "outputs": [
    {
     "name": "stdout",
     "output_type": "stream",
     "text": [
      "45.4547\n"
     ]
    }
   ],
   "source": [
    "#24.round() Function\n",
    "#The round() function returns a floating point number that is a rounded version of the specified number, with the specified number of decimals.\n",
    "\n",
    "#The default number of decimals is 0, meaning that the function will return the nearest integer.\n",
    "\n",
    "a=45.4546564\n",
    "b=round(a,4)\n",
    "print(b)"
   ]
  },
  {
   "cell_type": "code",
   "execution_count": 171,
   "id": "bd3cf0c3",
   "metadata": {},
   "outputs": [
    {
     "name": "stdout",
     "output_type": "stream",
     "text": [
      "('rajesh', 'kannan', 'ravi')\n"
     ]
    }
   ],
   "source": [
    "#25.set() Function\n",
    "#The set() function creates a set object.\n",
    "\n",
    "#The items in a set list are unordered, so it will appear in random order.\n",
    "\n",
    "#Read more about sets in the chapter Python Sets.\n",
    "a=(\"rajesh\", \"kannan\", \"ravi\")\n",
    "b=(a)\n",
    "print(a)"
   ]
  },
  {
   "cell_type": "code",
   "execution_count": 178,
   "id": "f5021310",
   "metadata": {},
   "outputs": [
    {
     "name": "stdout",
     "output_type": "stream",
     "text": [
      "('a', 'd', 'g')\n",
      "('a', 'b')\n",
      "('a', 'b', 'c')\n"
     ]
    }
   ],
   "source": [
    "#26.slice() function\n",
    "#The slice() function returns a slice object.\n",
    "\n",
    "#A slice object is used to specify how to slice a sequence. You can specify where to start the slicing, and where to end. You can also specify the step, which allows you to e.g. slice only every other item\n",
    "a = (\"a\", \"b\", \"c\", \"d\", \"e\", \"f\", \"g\", \"h\")\n",
    "b= slice(0, 8, 3)\n",
    "print(a[b])\n",
    "\n",
    "c=(\"a\", \"b\", \"c\", \"d\", \"e\", \"f\", \"g\", \"h\")\n",
    "d = slice(2)\n",
    "print(c[d])\n",
    "e = (\"a\", \"b\", \"c\", \"d\", \"e\", \"f\", \"g\", \"h\")\n",
    "f = slice(0, 3)\n",
    "print(e[f])"
   ]
  },
  {
   "cell_type": "code",
   "execution_count": 184,
   "id": "45f1e484",
   "metadata": {},
   "outputs": [
    {
     "name": "stdout",
     "output_type": "stream",
     "text": [
      "['a', 'b', 'c', 'd', 'e', 'f', 'g', 'h']\n",
      "[1, 2, 3, 4, 5, 6, 7, 9]\n"
     ]
    }
   ],
   "source": [
    "#27sorted() function\n",
    "#The sorted() function returns a sorted list of the specified iterable object.\n",
    "#You can specify ascending or descending order. Strings are sorted alphabetically, and numbers are sorted numerically.\n",
    "a=(\"b\", \"g\", \"a\", \"d\", \"f\", \"c\", \"h\", \"e\")\n",
    "b=sorted(a)\n",
    "print(b)\n",
    "\n",
    "c=(3,5,7,9,1,6,4,2)\n",
    "d=sorted(c)\n",
    "print(d)\n"
   ]
  },
  {
   "cell_type": "code",
   "execution_count": 185,
   "id": "942b311e",
   "metadata": {},
   "outputs": [
    {
     "name": "stdout",
     "output_type": "stream",
     "text": [
      "12\n",
      "<class 'str'>\n"
     ]
    }
   ],
   "source": [
    "#28.str() Function\n",
    "#The str() function converts the specified value into a string.\n",
    "a=int(\"12\")\n",
    "b=str(a)\n",
    "print(b)\n",
    "print(type(b))\n"
   ]
  },
  {
   "cell_type": "code",
   "execution_count": null,
   "id": "4bb7cf0a",
   "metadata": {},
   "outputs": [],
   "source": []
  },
  {
   "cell_type": "code",
   "execution_count": null,
   "id": "d4ad90fa",
   "metadata": {},
   "outputs": [],
   "source": []
  },
  {
   "cell_type": "code",
   "execution_count": null,
   "id": "f93ccc6e",
   "metadata": {},
   "outputs": [],
   "source": []
  }
 ],
 "metadata": {
  "kernelspec": {
   "display_name": "Python 3 (ipykernel)",
   "language": "python",
   "name": "python3"
  },
  "language_info": {
   "codemirror_mode": {
    "name": "ipython",
    "version": 3
   },
   "file_extension": ".py",
   "mimetype": "text/x-python",
   "name": "python",
   "nbconvert_exporter": "python",
   "pygments_lexer": "ipython3",
   "version": "3.9.12"
  }
 },
 "nbformat": 4,
 "nbformat_minor": 5
}
