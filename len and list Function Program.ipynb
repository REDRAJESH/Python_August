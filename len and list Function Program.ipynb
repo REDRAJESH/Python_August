{
 "cells": [
  {
   "cell_type": "code",
   "execution_count": 237,
   "id": "811d84b9",
   "metadata": {},
   "outputs": [
    {
     "name": "stdout",
     "output_type": "stream",
     "text": [
      "Enter the A value: 123456789\n",
      "Enter the AA Value: Rajeshkannan\n",
      "<class 'str'>\n",
      "<class 'int'>\n",
      "[1, 2, 3, 4, 5, 6, 7, 8, 9]\n",
      "<class 'list'>\n",
      "9\n",
      "<class 'int'>\n",
      "Rajeshkan\n",
      "<class 'str'>\n",
      "['R', 'a', 'j', 'e', 's', 'h', 'k', 'a', 'n']\n"
     ]
    }
   ],
   "source": [
    "a=input(\"Enter the A value: \")\n",
    "aa=input(\"Enter the AA Value: \")\n",
    "print(type(a))\n",
    "bb=(int(a))\n",
    "print(type(bb))\n",
    "\n",
    "# using list comprehension\n",
    "# to convert number to list of integers\n",
    "\n",
    "x=[int(x) for x in str(bb)]\n",
    "print(x)\n",
    "print(type(x))\n",
    "c=len(x)\n",
    "print(c)\n",
    "print(type(c))\n",
    "cc=aa[:c]\n",
    "print(cc)\n",
    "print(type(cc))\n",
    "dd=list(cc)\n",
    "print(dd)"
   ]
  },
  {
   "cell_type": "code",
   "execution_count": null,
   "id": "f6ff2725",
   "metadata": {},
   "outputs": [],
   "source": []
  }
 ],
 "metadata": {
  "kernelspec": {
   "display_name": "Python 3 (ipykernel)",
   "language": "python",
   "name": "python3"
  },
  "language_info": {
   "codemirror_mode": {
    "name": "ipython",
    "version": 3
   },
   "file_extension": ".py",
   "mimetype": "text/x-python",
   "name": "python",
   "nbconvert_exporter": "python",
   "pygments_lexer": "ipython3",
   "version": "3.9.12"
  }
 },
 "nbformat": 4,
 "nbformat_minor": 5
}
