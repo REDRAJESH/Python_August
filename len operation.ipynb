{
 "cells": [
  {
   "cell_type": "code",
   "execution_count": 198,
   "id": "ea30c931",
   "metadata": {},
   "outputs": [
    {
     "name": "stdout",
     "output_type": "stream",
     "text": [
      "Enter the value information\n",
      "imn\n"
     ]
    }
   ],
   "source": [
    "a=(input(\"Enter the value \"))\n",
    "x=(a[0])\n",
    "y=(a[len(a)//2])\n",
    "z=(a[-1])\n",
    "b=x+y+z\n",
    "print(b)\n",
    "\n"
   ]
  },
  {
   "cell_type": "code",
   "execution_count": 199,
   "id": "439a451f",
   "metadata": {},
   "outputs": [
    {
     "name": "stdout",
     "output_type": "stream",
     "text": [
      "Enter the value rajesh\n",
      "e\n"
     ]
    }
   ],
   "source": [
    "a=str(input(\"Enter the value \"))\n",
    "y=(a[len(a)//2])\n",
    "print(y)"
   ]
  },
  {
   "cell_type": "raw",
   "id": "be5e2a32",
   "metadata": {},
   "source": [
    "\n"
   ]
  },
  {
   "cell_type": "code",
   "execution_count": 259,
   "id": "c0cdd9c1",
   "metadata": {},
   "outputs": [
    {
     "name": "stdout",
     "output_type": "stream",
     "text": [
      "Enter the name Rajesh\n",
      "Enter the value 7\n",
      "Rajesh7\n"
     ]
    }
   ],
   "source": [
    "a=str(input(\"Enter the name \"))\n",
    "b=int(input(\"Enter the value \"))\n",
    "x=a+str(b)\n",
    "print(x)"
   ]
  },
  {
   "cell_type": "code",
   "execution_count": 286,
   "id": "5114f8be",
   "metadata": {},
   "outputs": [
    {
     "name": "stdout",
     "output_type": "stream",
     "text": [
      "Enter the name sdfgh\n",
      "Enter the value 4\n",
      "sdfghsdfghsdfghsdfgh 44444\n"
     ]
    }
   ],
   "source": [
    "a=str(input(\"Enter the name \"))\n",
    "b=int(input(\"Enter the value \"))\n",
    "x=(a)*(b)\n",
    "y=str(b)*len(a)\n",
    "print(x,y)"
   ]
  },
  {
   "cell_type": "code",
   "execution_count": 275,
   "id": "829c6589",
   "metadata": {},
   "outputs": [
    {
     "name": "stdout",
     "output_type": "stream",
     "text": [
      "Enter the name 1 sdfghjk\n",
      "Enter the name 2 sdfghjk\n",
      "7 7\n",
      "sdfghjk7 sdfghjk7\n"
     ]
    }
   ],
   "source": [
    "a=(input(\"Enter the name 1 \"))\n",
    "b=(input(\"Enter the name 2 \"))\n",
    "x=len(a)\n",
    "y=len(b)\n",
    "print(x,y)\n",
    "print(a+str(y),b+str(x))"
   ]
  },
  {
   "cell_type": "code",
   "execution_count": null,
   "id": "6174c8eb",
   "metadata": {},
   "outputs": [],
   "source": []
  }
 ],
 "metadata": {
  "kernelspec": {
   "display_name": "Python 3 (ipykernel)",
   "language": "python",
   "name": "python3"
  },
  "language_info": {
   "codemirror_mode": {
    "name": "ipython",
    "version": 3
   },
   "file_extension": ".py",
   "mimetype": "text/x-python",
   "name": "python",
   "nbconvert_exporter": "python",
   "pygments_lexer": "ipython3",
   "version": "3.9.12"
  }
 },
 "nbformat": 4,
 "nbformat_minor": 5
}
